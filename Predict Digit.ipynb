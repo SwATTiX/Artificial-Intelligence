{
 "cells": [
  {
   "cell_type": "markdown",
   "id": "07eb6d5b",
   "metadata": {},
   "source": [
    "<h1> Predict Digits from handwritten Images </h1>\n",
    "\n",
    "In this model we will predict what digit it is from a handwritten image of the digits. At first the data of handwritten digits is imported and explored. Then the data is fed to a Logistic Regression model which predicts what digit it is."
   ]
  },
  {
   "cell_type": "markdown",
   "id": "18438c32",
   "metadata": {},
   "source": [
    "<h3> Importing the dataset and requisite libraries </h3>\n",
    "\n",
    "We use the digits dataset available in the \"sklearn\" library which is a commonly used library in ML and Data Science.\n",
    "We import the LogisticRegression model and train_test_split function from the sklearn library, numpy to use and manipulate arrays."
   ]
  },
  {
   "cell_type": "code",
   "execution_count": 17,
   "id": "a37a5a51",
   "metadata": {},
   "outputs": [],
   "source": [
    "#import the requisite libraries\n",
    "\n",
    "from sklearn.datasets import load_digits\n",
    "from sklearn.linear_model import LogisticRegression\n",
    "from sklearn.model_selection import train_test_split\n",
    "import numpy as np\n"
   ]
  },
  {
   "cell_type": "markdown",
   "id": "8a70f331",
   "metadata": {},
   "source": [
    "<h3> Exploratory Data Analysis </h3>"
   ]
  },
  {
   "cell_type": "code",
   "execution_count": 19,
   "id": "26b88aa8",
   "metadata": {},
   "outputs": [
    {
     "name": "stdout",
     "output_type": "stream",
     "text": [
      ".. _digits_dataset:\n",
      "\n",
      "Optical recognition of handwritten digits dataset\n",
      "--------------------------------------------------\n",
      "\n",
      "**Data Set Characteristics:**\n",
      "\n",
      "    :Number of Instances: 1797\n",
      "    :Number of Attributes: 64\n",
      "    :Attribute Information: 8x8 image of integer pixels in the range 0..16.\n",
      "    :Missing Attribute Values: None\n",
      "    :Creator: E. Alpaydin (alpaydin '@' boun.edu.tr)\n",
      "    :Date: July; 1998\n",
      "\n",
      "This is a copy of the test set of the UCI ML hand-written digits datasets\n",
      "https://archive.ics.uci.edu/ml/datasets/Optical+Recognition+of+Handwritten+Digits\n",
      "\n",
      "The data set contains images of hand-written digits: 10 classes where\n",
      "each class refers to a digit.\n",
      "\n",
      "Preprocessing programs made available by NIST were used to extract\n",
      "normalized bitmaps of handwritten digits from a preprinted form. From a\n",
      "total of 43 people, 30 contributed to the training set and different 13\n",
      "to the test set. 32x32 bitmaps are divided into nonoverlapping blocks of\n",
      "4x4 and the number of on pixels are counted in each block. This generates\n",
      "an input matrix of 8x8 where each element is an integer in the range\n",
      "0..16. This reduces dimensionality and gives invariance to small\n",
      "distortions.\n",
      "\n",
      "For info on NIST preprocessing routines, see M. D. Garris, J. L. Blue, G.\n",
      "T. Candela, D. L. Dimmick, J. Geist, P. J. Grother, S. A. Janet, and C.\n",
      "L. Wilson, NIST Form-Based Handprint Recognition System, NISTIR 5469,\n",
      "1994.\n",
      "\n",
      ".. topic:: References\n",
      "\n",
      "  - C. Kaynak (1995) Methods of Combining Multiple Classifiers and Their\n",
      "    Applications to Handwritten Digit Recognition, MSc Thesis, Institute of\n",
      "    Graduate Studies in Science and Engineering, Bogazici University.\n",
      "  - E. Alpaydin, C. Kaynak (1998) Cascading Classifiers, Kybernetika.\n",
      "  - Ken Tang and Ponnuthurai N. Suganthan and Xi Yao and A. Kai Qin.\n",
      "    Linear dimensionalityreduction using relevance weighted LDA. School of\n",
      "    Electrical and Electronic Engineering Nanyang Technological University.\n",
      "    2005.\n",
      "  - Claudio Gentile. A New Approximate Maximal Margin Classification\n",
      "    Algorithm. NIPS. 2000.\n",
      "\n"
     ]
    }
   ],
   "source": [
    "#load the dataset\n",
    "digits = load_digits()\n",
    "\n",
    "#take a look at its description\n",
    "print(digits.DESCR)"
   ]
  },
  {
   "cell_type": "code",
   "execution_count": 20,
   "id": "42268282",
   "metadata": {},
   "outputs": [
    {
     "data": {
      "text/plain": [
       "(1797, 64)"
      ]
     },
     "execution_count": 20,
     "metadata": {},
     "output_type": "execute_result"
    }
   ],
   "source": [
    "#explore the dataset\n",
    "digits.data.shape"
   ]
  },
  {
   "cell_type": "code",
   "execution_count": 21,
   "id": "59d5b049",
   "metadata": {},
   "outputs": [
    {
     "data": {
      "text/plain": [
       "(1797,)"
      ]
     },
     "execution_count": 21,
     "metadata": {},
     "output_type": "execute_result"
    }
   ],
   "source": [
    "digits.target.shape"
   ]
  },
  {
   "cell_type": "markdown",
   "id": "3a10898a",
   "metadata": {},
   "source": [
    "<h3> Model </h3>\n",
    "\n",
    "We split the data into training and test sets in a 8:2 ratio and then fit the training data into the Logistic Regression Model. After that we check our trained model on the test set to make predictions and check the accuracy of our model."
   ]
  },
  {
   "cell_type": "code",
   "execution_count": 22,
   "id": "23cd6639",
   "metadata": {},
   "outputs": [
    {
     "data": {
      "text/plain": [
       "LogisticRegression(max_iter=10000)"
      ]
     },
     "execution_count": 22,
     "metadata": {},
     "output_type": "execute_result"
    }
   ],
   "source": [
    "#split the dataset into the training set and the test set\n",
    "X_train, X_test, Y_train, Y_test = train_test_split(digits.data, digits.target, test_size = 0.2)\n",
    "\n",
    "#fit the data into the Logistic Regression model\n",
    "logReg = LogisticRegression(max_iter = 10000)\n",
    "logReg.fit(X_train, Y_train)"
   ]
  },
  {
   "cell_type": "code",
   "execution_count": 23,
   "id": "08386358",
   "metadata": {},
   "outputs": [
    {
     "data": {
      "text/plain": [
       "array([7, 1, 5, 2, 8, 2, 4, 6, 7, 3, 2, 4, 5, 6, 7, 4, 1, 6, 7, 1, 9, 8,\n",
       "       5, 1, 1, 7, 3, 1, 3, 8, 4, 1, 8, 6, 1, 0, 8, 0, 5, 0, 5, 9, 9, 6,\n",
       "       2, 9, 1, 2, 4, 5, 6, 7, 3, 8, 0, 2, 0, 7, 8, 6, 9, 3, 5, 9, 4, 0,\n",
       "       1, 4, 7, 5, 1, 2, 2, 2, 1, 2, 3, 1, 7, 7, 5, 7, 8, 1, 0, 5, 2, 0,\n",
       "       2, 3, 7, 8, 7, 8, 5, 3, 6, 5, 7, 5, 1, 3, 0, 6, 0, 9, 6, 9, 1, 2,\n",
       "       7, 5, 4, 5, 3, 2, 0, 2, 4, 9, 2, 5, 7, 4, 9, 1, 4, 8, 0, 7, 2, 8,\n",
       "       1, 7, 0, 2, 1, 4, 4, 0, 4, 5, 5, 4, 8, 6, 9, 8, 0, 2, 2, 8, 5, 6,\n",
       "       5, 9, 4, 8, 2, 6, 6, 1, 4, 7, 8, 1, 9, 3, 4, 6, 3, 1, 4, 2, 0, 1,\n",
       "       8, 3, 9, 4, 9, 2, 3, 3, 8, 2, 2, 8, 1, 2, 8, 9, 1, 9, 0, 0, 3, 3,\n",
       "       6, 0, 6, 3, 6, 1, 1, 8, 0, 4, 9, 0, 6, 1, 3, 0, 4, 1, 9, 2, 0, 2,\n",
       "       7, 2, 9, 7, 6, 7, 9, 8, 6, 4, 8, 7, 7, 0, 5, 4, 3, 3, 3, 2, 6, 2,\n",
       "       4, 9, 8, 8, 3, 5, 2, 9, 4, 7, 6, 5, 3, 5, 3, 2, 0, 5, 4, 4, 4, 5,\n",
       "       5, 2, 9, 0, 3, 2, 2, 8, 4, 2, 4, 5, 1, 6, 2, 4, 7, 7, 4, 4, 0, 1,\n",
       "       5, 8, 9, 8, 2, 5, 8, 3, 1, 6, 3, 2, 1, 1, 1, 0, 0, 0, 4, 0, 8, 3,\n",
       "       4, 3, 8, 6, 4, 4, 6, 2, 9, 3, 1, 5, 9, 8, 0, 2, 8, 5, 6, 3, 8, 3,\n",
       "       6, 1, 1, 8, 5, 4, 7, 7, 0, 0, 0, 3, 1, 4, 7, 4, 9, 1, 4, 5, 3, 2,\n",
       "       7, 1, 7, 2, 9, 2, 4, 0])"
      ]
     },
     "execution_count": 23,
     "metadata": {},
     "output_type": "execute_result"
    }
   ],
   "source": [
    "#Predict the data for the test set and explore the results\n",
    "predictions = logReg.predict(X_test)\n",
    "predictions"
   ]
  },
  {
   "cell_type": "code",
   "execution_count": 24,
   "id": "f44e804e",
   "metadata": {},
   "outputs": [
    {
     "data": {
      "text/plain": [
       "0.975"
      ]
     },
     "execution_count": 24,
     "metadata": {},
     "output_type": "execute_result"
    }
   ],
   "source": [
    "#check the accuracy of the model\n",
    "logReg.score(X_test, Y_test)"
   ]
  }
 ],
 "metadata": {
  "kernelspec": {
   "display_name": "Python 3",
   "language": "python",
   "name": "python3"
  },
  "language_info": {
   "codemirror_mode": {
    "name": "ipython",
    "version": 3
   },
   "file_extension": ".py",
   "mimetype": "text/x-python",
   "name": "python",
   "nbconvert_exporter": "python",
   "pygments_lexer": "ipython3",
   "version": "3.8.5"
  }
 },
 "nbformat": 4,
 "nbformat_minor": 5
}
